{
 "cells": [
  {
   "cell_type": "code",
   "execution_count": 15,
   "metadata": {},
   "outputs": [],
   "source": [
    "# Get all the players from Sleeper and store the pertinent information in a SQLite database\n",
    "import requests\n",
    "import sqlite3\n",
    "import json\n",
    "from sleeper import get_all_players, get_users_in_league\n",
    "from manage import clean_player_data\n",
    "from config import LEAGUE_LIST\n",
    "LEAGUE_ID = \"1234567890123456789\"\n",
    "SLEEPER_API = \"https://api.sleeper.app/v1/players/nfl\"\n",
    "\n",
    "with open('../data/players.json', 'r') as file:\n",
    "        player_json = json.load(file)"
   ]
  },
  {
   "cell_type": "code",
   "execution_count": 16,
   "metadata": {},
   "outputs": [],
   "source": [
    "# Get all the players from Sleeper\n",
    "players_json = get_all_players()\n"
   ]
  },
  {
   "cell_type": "code",
   "execution_count": 19,
   "metadata": {},
   "outputs": [],
   "source": [
    "# Get all the players from Sleeper\n",
    "players_json = get_all_players()\n",
    "players_df = clean_player_data(players_json)\n",
    "\n",
    "# Create a connection to the database\n",
    "conn = sqlite3.connect('../data/league_db.db')\n",
    "# Insert the data into the database\n",
    "players_df.to_sql('players', conn, if_exists='replace', index=True)\n",
    "conn.commit()\n",
    "conn.close()"
   ]
  },
  {
   "cell_type": "markdown",
   "metadata": {},
   "source": [
    "# Insert the coaches into the database"
   ]
  },
  {
   "cell_type": "code",
   "execution_count": 20,
   "metadata": {},
   "outputs": [],
   "source": [
    "# Create a connection to the database\n",
    "conn = sqlite3.connect('../data/league_db.db')\n",
    "# Remove the coaches table if it exists already\n",
    "conn.execute(\"DROP TABLE IF EXISTS coaches\")\n",
    "# Get all the coaches in each of the leagues\n",
    "for league in LEAGUE_LIST:\n",
    "    coaches_df = get_users_in_league(LEAGUE_LIST[league])\n",
    "    coaches_df.to_sql('coaches', conn, if_exists='append', index=False)\n",
    "\n",
    "# Update the team names if they aren't already set by combining the display name and Team like \"Team\" + Display Name from the row\n",
    "conn.execute(\"UPDATE coaches SET team_name = 'Team ' + display_name WHERE team_name IS NULL\")\n",
    "\n",
    "# Close the connection\n",
    "conn.close()"
   ]
  },
  {
   "cell_type": "markdown",
   "metadata": {},
   "source": [
    "# Now get the drafts from every league and put these in the database"
   ]
  }
 ],
 "metadata": {
  "kernelspec": {
   "display_name": "Python 3",
   "language": "python",
   "name": "python3"
  },
  "language_info": {
   "codemirror_mode": {
    "name": "ipython",
    "version": 3
   },
   "file_extension": ".py",
   "mimetype": "text/x-python",
   "name": "python",
   "nbconvert_exporter": "python",
   "pygments_lexer": "ipython3",
   "version": "3.12.0"
  }
 },
 "nbformat": 4,
 "nbformat_minor": 2
}
